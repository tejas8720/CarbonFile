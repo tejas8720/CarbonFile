{
  "nbformat": 4,
  "nbformat_minor": 0,
  "metadata": {
    "colab": {
      "provenance": []
    },
    "kernelspec": {
      "name": "python3",
      "display_name": "Python 3"
    },
    "language_info": {
      "name": "python"
    }
  },
  "cells": [
    {
      "cell_type": "code",
      "execution_count": null,
      "metadata": {
        "id": "dpz_s_VW9nwp"
      },
      "outputs": [],
      "source": [
        "import pandas as pd\n",
        "import matplotlib.pyplot as plt\n",
        "import numpy as np\n",
        "import seaborn as sns"
      ]
    },
    {
      "cell_type": "code",
      "source": [
        "socDB = pd.read_csv('SOC_Database.csv', sep=',')"
      ],
      "metadata": {
        "id": "9yM_6hLW-A7f"
      },
      "execution_count": null,
      "outputs": []
    },
    {
      "cell_type": "code",
      "source": [
        "socDB.head()"
      ],
      "metadata": {
        "colab": {
          "base_uri": "https://localhost:8080/",
          "height": 317
        },
        "id": "9py0Y8rSJ0zo",
        "outputId": "d56962d8-04a8-4a9c-8045-3a3f26ad98c0"
      },
      "execution_count": null,
      "outputs": [
        {
          "output_type": "execute_result",
          "data": {
            "text/plain": [
              "   SampleID  SOC (%)         Catch       Conv        Elev   DevME A   DevME B  \\\n",
              "0         1     4.88    105.560303  -1.695651  397.309113 -0.242336 -0.019693   \n",
              "1         2     4.76  11756.406250 -12.779182  397.207977 -0.778743 -0.452079   \n",
              "2         3     5.10   2824.329590  -0.521328  397.390015 -0.171732 -0.254896   \n",
              "3         4     5.70   5295.354492   3.123698  397.513275  0.009115  0.044004   \n",
              "4         5     5.11   6871.969727   2.661578  397.637207  0.072724  0.113439   \n",
              "\n",
              "    DevME C   DevME D  DiffME A  ...       TPI       TRI        TWI  \\\n",
              "0 -0.416003 -1.223508 -0.042645  ... -0.025165  0.059154   8.648174   \n",
              "1 -0.494462 -1.258175 -0.106777  ... -0.180933  0.021448  14.400584   \n",
              "2 -0.437166 -1.231417 -0.031157  ... -0.111542  0.037374  12.385666   \n",
              "3 -0.394856 -1.225852  0.001653  ...  0.000611  0.031468  13.188428   \n",
              "4 -0.366388 -1.215629  0.014545  ...  0.057567  0.041576  13.167877   \n",
              "\n",
              "      VDepth        VIS  NDVI_max  NDVI_median   NDVI_sd     X (DD)     Y (DD)  \n",
              "0   9.705094  98.230995  0.876076     0.694713  0.164614 -80.269163  43.707232  \n",
              "1  10.325721  98.319786  0.915627     0.613926  0.210947 -80.269013  43.707365  \n",
              "2   9.450062  98.371185  0.927210     0.646960  0.234737 -80.268867  43.707490  \n",
              "3   8.735661  98.379845  0.915750     0.711604  0.183207 -80.268703  43.707638  \n",
              "4   8.526403  98.394020  0.934996     0.651558  0.271645 -80.268508  43.707771  \n",
              "\n",
              "[5 rows x 61 columns]"
            ],
            "text/html": [
              "\n",
              "  <div id=\"df-582a4500-4edb-4bcb-bd82-e0b472cd3b36\">\n",
              "    <div class=\"colab-df-container\">\n",
              "      <div>\n",
              "<style scoped>\n",
              "    .dataframe tbody tr th:only-of-type {\n",
              "        vertical-align: middle;\n",
              "    }\n",
              "\n",
              "    .dataframe tbody tr th {\n",
              "        vertical-align: top;\n",
              "    }\n",
              "\n",
              "    .dataframe thead th {\n",
              "        text-align: right;\n",
              "    }\n",
              "</style>\n",
              "<table border=\"1\" class=\"dataframe\">\n",
              "  <thead>\n",
              "    <tr style=\"text-align: right;\">\n",
              "      <th></th>\n",
              "      <th>SampleID</th>\n",
              "      <th>SOC (%)</th>\n",
              "      <th>Catch</th>\n",
              "      <th>Conv</th>\n",
              "      <th>Elev</th>\n",
              "      <th>DevME A</th>\n",
              "      <th>DevME B</th>\n",
              "      <th>DevME C</th>\n",
              "      <th>DevME D</th>\n",
              "      <th>DiffME A</th>\n",
              "      <th>...</th>\n",
              "      <th>TPI</th>\n",
              "      <th>TRI</th>\n",
              "      <th>TWI</th>\n",
              "      <th>VDepth</th>\n",
              "      <th>VIS</th>\n",
              "      <th>NDVI_max</th>\n",
              "      <th>NDVI_median</th>\n",
              "      <th>NDVI_sd</th>\n",
              "      <th>X (DD)</th>\n",
              "      <th>Y (DD)</th>\n",
              "    </tr>\n",
              "  </thead>\n",
              "  <tbody>\n",
              "    <tr>\n",
              "      <th>0</th>\n",
              "      <td>1</td>\n",
              "      <td>4.88</td>\n",
              "      <td>105.560303</td>\n",
              "      <td>-1.695651</td>\n",
              "      <td>397.309113</td>\n",
              "      <td>-0.242336</td>\n",
              "      <td>-0.019693</td>\n",
              "      <td>-0.416003</td>\n",
              "      <td>-1.223508</td>\n",
              "      <td>-0.042645</td>\n",
              "      <td>...</td>\n",
              "      <td>-0.025165</td>\n",
              "      <td>0.059154</td>\n",
              "      <td>8.648174</td>\n",
              "      <td>9.705094</td>\n",
              "      <td>98.230995</td>\n",
              "      <td>0.876076</td>\n",
              "      <td>0.694713</td>\n",
              "      <td>0.164614</td>\n",
              "      <td>-80.269163</td>\n",
              "      <td>43.707232</td>\n",
              "    </tr>\n",
              "    <tr>\n",
              "      <th>1</th>\n",
              "      <td>2</td>\n",
              "      <td>4.76</td>\n",
              "      <td>11756.406250</td>\n",
              "      <td>-12.779182</td>\n",
              "      <td>397.207977</td>\n",
              "      <td>-0.778743</td>\n",
              "      <td>-0.452079</td>\n",
              "      <td>-0.494462</td>\n",
              "      <td>-1.258175</td>\n",
              "      <td>-0.106777</td>\n",
              "      <td>...</td>\n",
              "      <td>-0.180933</td>\n",
              "      <td>0.021448</td>\n",
              "      <td>14.400584</td>\n",
              "      <td>10.325721</td>\n",
              "      <td>98.319786</td>\n",
              "      <td>0.915627</td>\n",
              "      <td>0.613926</td>\n",
              "      <td>0.210947</td>\n",
              "      <td>-80.269013</td>\n",
              "      <td>43.707365</td>\n",
              "    </tr>\n",
              "    <tr>\n",
              "      <th>2</th>\n",
              "      <td>3</td>\n",
              "      <td>5.10</td>\n",
              "      <td>2824.329590</td>\n",
              "      <td>-0.521328</td>\n",
              "      <td>397.390015</td>\n",
              "      <td>-0.171732</td>\n",
              "      <td>-0.254896</td>\n",
              "      <td>-0.437166</td>\n",
              "      <td>-1.231417</td>\n",
              "      <td>-0.031157</td>\n",
              "      <td>...</td>\n",
              "      <td>-0.111542</td>\n",
              "      <td>0.037374</td>\n",
              "      <td>12.385666</td>\n",
              "      <td>9.450062</td>\n",
              "      <td>98.371185</td>\n",
              "      <td>0.927210</td>\n",
              "      <td>0.646960</td>\n",
              "      <td>0.234737</td>\n",
              "      <td>-80.268867</td>\n",
              "      <td>43.707490</td>\n",
              "    </tr>\n",
              "    <tr>\n",
              "      <th>3</th>\n",
              "      <td>4</td>\n",
              "      <td>5.70</td>\n",
              "      <td>5295.354492</td>\n",
              "      <td>3.123698</td>\n",
              "      <td>397.513275</td>\n",
              "      <td>0.009115</td>\n",
              "      <td>0.044004</td>\n",
              "      <td>-0.394856</td>\n",
              "      <td>-1.225852</td>\n",
              "      <td>0.001653</td>\n",
              "      <td>...</td>\n",
              "      <td>0.000611</td>\n",
              "      <td>0.031468</td>\n",
              "      <td>13.188428</td>\n",
              "      <td>8.735661</td>\n",
              "      <td>98.379845</td>\n",
              "      <td>0.915750</td>\n",
              "      <td>0.711604</td>\n",
              "      <td>0.183207</td>\n",
              "      <td>-80.268703</td>\n",
              "      <td>43.707638</td>\n",
              "    </tr>\n",
              "    <tr>\n",
              "      <th>4</th>\n",
              "      <td>5</td>\n",
              "      <td>5.11</td>\n",
              "      <td>6871.969727</td>\n",
              "      <td>2.661578</td>\n",
              "      <td>397.637207</td>\n",
              "      <td>0.072724</td>\n",
              "      <td>0.113439</td>\n",
              "      <td>-0.366388</td>\n",
              "      <td>-1.215629</td>\n",
              "      <td>0.014545</td>\n",
              "      <td>...</td>\n",
              "      <td>0.057567</td>\n",
              "      <td>0.041576</td>\n",
              "      <td>13.167877</td>\n",
              "      <td>8.526403</td>\n",
              "      <td>98.394020</td>\n",
              "      <td>0.934996</td>\n",
              "      <td>0.651558</td>\n",
              "      <td>0.271645</td>\n",
              "      <td>-80.268508</td>\n",
              "      <td>43.707771</td>\n",
              "    </tr>\n",
              "  </tbody>\n",
              "</table>\n",
              "<p>5 rows × 61 columns</p>\n",
              "</div>\n",
              "      <button class=\"colab-df-convert\" onclick=\"convertToInteractive('df-582a4500-4edb-4bcb-bd82-e0b472cd3b36')\"\n",
              "              title=\"Convert this dataframe to an interactive table.\"\n",
              "              style=\"display:none;\">\n",
              "        \n",
              "  <svg xmlns=\"http://www.w3.org/2000/svg\" height=\"24px\"viewBox=\"0 0 24 24\"\n",
              "       width=\"24px\">\n",
              "    <path d=\"M0 0h24v24H0V0z\" fill=\"none\"/>\n",
              "    <path d=\"M18.56 5.44l.94 2.06.94-2.06 2.06-.94-2.06-.94-.94-2.06-.94 2.06-2.06.94zm-11 1L8.5 8.5l.94-2.06 2.06-.94-2.06-.94L8.5 2.5l-.94 2.06-2.06.94zm10 10l.94 2.06.94-2.06 2.06-.94-2.06-.94-.94-2.06-.94 2.06-2.06.94z\"/><path d=\"M17.41 7.96l-1.37-1.37c-.4-.4-.92-.59-1.43-.59-.52 0-1.04.2-1.43.59L10.3 9.45l-7.72 7.72c-.78.78-.78 2.05 0 2.83L4 21.41c.39.39.9.59 1.41.59.51 0 1.02-.2 1.41-.59l7.78-7.78 2.81-2.81c.8-.78.8-2.07 0-2.86zM5.41 20L4 18.59l7.72-7.72 1.47 1.35L5.41 20z\"/>\n",
              "  </svg>\n",
              "      </button>\n",
              "      \n",
              "  <style>\n",
              "    .colab-df-container {\n",
              "      display:flex;\n",
              "      flex-wrap:wrap;\n",
              "      gap: 12px;\n",
              "    }\n",
              "\n",
              "    .colab-df-convert {\n",
              "      background-color: #E8F0FE;\n",
              "      border: none;\n",
              "      border-radius: 50%;\n",
              "      cursor: pointer;\n",
              "      display: none;\n",
              "      fill: #1967D2;\n",
              "      height: 32px;\n",
              "      padding: 0 0 0 0;\n",
              "      width: 32px;\n",
              "    }\n",
              "\n",
              "    .colab-df-convert:hover {\n",
              "      background-color: #E2EBFA;\n",
              "      box-shadow: 0px 1px 2px rgba(60, 64, 67, 0.3), 0px 1px 3px 1px rgba(60, 64, 67, 0.15);\n",
              "      fill: #174EA6;\n",
              "    }\n",
              "\n",
              "    [theme=dark] .colab-df-convert {\n",
              "      background-color: #3B4455;\n",
              "      fill: #D2E3FC;\n",
              "    }\n",
              "\n",
              "    [theme=dark] .colab-df-convert:hover {\n",
              "      background-color: #434B5C;\n",
              "      box-shadow: 0px 1px 3px 1px rgba(0, 0, 0, 0.15);\n",
              "      filter: drop-shadow(0px 1px 2px rgba(0, 0, 0, 0.3));\n",
              "      fill: #FFFFFF;\n",
              "    }\n",
              "  </style>\n",
              "\n",
              "      <script>\n",
              "        const buttonEl =\n",
              "          document.querySelector('#df-582a4500-4edb-4bcb-bd82-e0b472cd3b36 button.colab-df-convert');\n",
              "        buttonEl.style.display =\n",
              "          google.colab.kernel.accessAllowed ? 'block' : 'none';\n",
              "\n",
              "        async function convertToInteractive(key) {\n",
              "          const element = document.querySelector('#df-582a4500-4edb-4bcb-bd82-e0b472cd3b36');\n",
              "          const dataTable =\n",
              "            await google.colab.kernel.invokeFunction('convertToInteractive',\n",
              "                                                     [key], {});\n",
              "          if (!dataTable) return;\n",
              "\n",
              "          const docLinkHtml = 'Like what you see? Visit the ' +\n",
              "            '<a target=\"_blank\" href=https://colab.research.google.com/notebooks/data_table.ipynb>data table notebook</a>'\n",
              "            + ' to learn more about interactive tables.';\n",
              "          element.innerHTML = '';\n",
              "          dataTable['output_type'] = 'display_data';\n",
              "          await google.colab.output.renderOutput(dataTable, element);\n",
              "          const docLink = document.createElement('div');\n",
              "          docLink.innerHTML = docLinkHtml;\n",
              "          element.appendChild(docLink);\n",
              "        }\n",
              "      </script>\n",
              "    </div>\n",
              "  </div>\n",
              "  "
            ]
          },
          "metadata": {},
          "execution_count": 34
        }
      ]
    },
    {
      "cell_type": "code",
      "source": [
        "# checking the data\n",
        "print(socDB.columns)\n",
        "print(socDB.shape)\n",
        "print(socDB.isnull().sum().any())\n",
        "print(socDB.duplicated().any())\n",
        "print(socDB.dtypes == 'str')"
      ],
      "metadata": {
        "colab": {
          "base_uri": "https://localhost:8080/"
        },
        "id": "gSkCGpA_-f9Q",
        "outputId": "1d50709a-5527-461a-aa91-826f82c227b0"
      },
      "execution_count": null,
      "outputs": [
        {
          "output_type": "stream",
          "name": "stdout",
          "text": [
            "Index(['SampleID', 'SOC (%)', 'Catch', 'Conv', 'Elev', 'DevME A', 'DevME B',\n",
            "       'DevME C', 'DevME D', 'DiffME A', 'DiffME B', 'DiffME C', 'DiffME D',\n",
            "       'EDF MID', 'EDF NE', 'EDF NW', 'EDF SE', 'EDF SW', 'EDF E', 'EDF N',\n",
            "       'Gcurv', 'Hillshade', 'LS', 'MDM A', 'MDM B', 'MDM C', 'MDMS A',\n",
            "       'MDMS B', 'MDMS C', 'MED A', 'MED B', 'MED C', 'MEDS A', 'MEDS B',\n",
            "       'MEDS C', 'MRRTF', 'MRVBF', 'MSP', 'MSTPI', 'NormH', 'Plan', 'Pro',\n",
            "       'RSP', 'SLength', 'SlopeH', 'Slope', 'SPI', 'StanH', 'SVF', 'SWI',\n",
            "       'TCurv', 'TPI', 'TRI', 'TWI', 'VDepth', 'VIS', 'NDVI_max',\n",
            "       'NDVI_median', 'NDVI_sd', 'X (DD)', 'Y (DD)'],\n",
            "      dtype='object')\n",
            "(840, 61)\n",
            "False\n",
            "False\n",
            "SampleID       False\n",
            "SOC (%)        False\n",
            "Catch          False\n",
            "Conv           False\n",
            "Elev           False\n",
            "               ...  \n",
            "NDVI_max       False\n",
            "NDVI_median    False\n",
            "NDVI_sd        False\n",
            "X (DD)         False\n",
            "Y (DD)         False\n",
            "Length: 61, dtype: bool\n"
          ]
        }
      ]
    },
    {
      "cell_type": "code",
      "source": [
        "# prepare data for ML modeling\n",
        "x = socDB.drop(['SampleID','SOC (%)'], 1)\n",
        "y = socDB['SOC (%)']\n",
        "print(x.shape, y.shape)"
      ],
      "metadata": {
        "colab": {
          "base_uri": "https://localhost:8080/"
        },
        "id": "EWgm7uP8-kZg",
        "outputId": "8280ce85-3af8-4d7c-81af-f0d955a483d9"
      },
      "execution_count": null,
      "outputs": [
        {
          "output_type": "stream",
          "name": "stdout",
          "text": [
            "(840, 59) (840,)\n"
          ]
        },
        {
          "output_type": "stream",
          "name": "stderr",
          "text": [
            "<ipython-input-9-ab5b62cc6f6b>:2: FutureWarning: In a future version of pandas all arguments of DataFrame.drop except for the argument 'labels' will be keyword-only\n",
            "  x = socDB.drop(['SampleID','SOC (%)'], 1)\n"
          ]
        }
      ]
    },
    {
      "cell_type": "code",
      "source": [
        "# splitting data for training and testing\n",
        "X_train = x[:700]\n",
        "y_train = y[:700]\n",
        "X_test = x[700:]\n",
        "y_test = y[700:]\n",
        "\n",
        "print(X_train.shape, y_train.shape, X_test.shape, y_test.shape)"
      ],
      "metadata": {
        "colab": {
          "base_uri": "https://localhost:8080/"
        },
        "id": "AWrrIzwo-6pY",
        "outputId": "97364706-b8a3-4ef7-c0ec-e539b75accfa"
      },
      "execution_count": null,
      "outputs": [
        {
          "output_type": "stream",
          "name": "stdout",
          "text": [
            "(700, 59) (700,) (140, 59) (140,)\n"
          ]
        }
      ]
    },
    {
      "cell_type": "code",
      "source": [
        "from sklearn.linear_model import LinearRegression\n",
        "clf = LinearRegression()\n",
        "clf.fit(X_train, y_train)\n",
        "\n",
        "print(clf.coef_)\n",
        "print(clf.intercept_)\n",
        "\n",
        "train_accuracy = clf.score(X_train, y_train)\n",
        "test_accuracy = clf.score(X_test, y_test)\n",
        "\n",
        "print(train_accuracy)\n",
        "print(test_accuracy)"
      ],
      "metadata": {
        "colab": {
          "base_uri": "https://localhost:8080/"
        },
        "id": "t82jOpj5_8e8",
        "outputId": "b3f07ee5-78e3-49d4-bba0-ea2a1e5e1638"
      },
      "execution_count": null,
      "outputs": [
        {
          "output_type": "stream",
          "name": "stdout",
          "text": [
            "[-1.91928514e-05  1.92881216e-03  2.10953744e+00 -2.15581429e-03\n",
            " -8.13729161e-01 -3.87019173e-01 -1.23077024e+01  9.51798209e+00\n",
            " -4.59731112e-02  8.24202478e-01 -3.93268382e-02 -8.00061102e-03\n",
            " -1.51064248e-01  8.86280927e-02 -1.41731535e-02  1.70017541e-02\n",
            "  1.70592630e-01  8.73285258e-02 -1.27318797e+02  6.79042555e-01\n",
            " -3.03851035e+00  4.22216096e-01  1.38149001e-01 -1.74342238e-01\n",
            "  6.49690852e-03 -1.67495417e-03  2.77177074e-03  2.72772009e-02\n",
            " -3.31504930e-01  5.50978352e-01 -6.14792253e-04 -2.29028769e-03\n",
            " -1.60885330e-03 -6.32140712e-02 -8.53141246e-02  1.27089325e-01\n",
            " -1.12976082e+00  2.89793569e+00  5.12118051e-01 -1.19683170e+02\n",
            "  1.58396630e+00 -1.49988622e-05 -2.37187678e-01  4.58230953e+01\n",
            "  1.42090692e-03 -1.42885234e-01 -5.24938686e+02 -1.05900614e-01\n",
            "  2.22301529e+04 -5.47956940e-01 -9.55873627e+00  3.32599598e-02\n",
            "  2.51624452e-01  3.57258851e-01 -7.16934805e+00 -1.27138025e+00\n",
            " -1.91831646e+00  5.27960323e+02  1.81549675e+03]\n",
            "-37453.443620437254\n",
            "0.6818351594493779\n",
            "-1.6102692737300988\n"
          ]
        }
      ]
    },
    {
      "cell_type": "code",
      "source": [
        "train_predict = clf.predict(X_train)\n",
        "\n",
        "train_predictions = pd.DataFrame({'true_SOC%': y_train, 'predicted_SOC%': train_predict})\n",
        "train_predictions.head()\n",
        "\n",
        "\n",
        "\n",
        "\n",
        "test_predict = clf.predict(X_test)\n",
        "test_predictions = pd.DataFrame({'true_SOC%': y_test, 'predicted_SOC%': test_predict})\n",
        "\n",
        "print(\"-------Training Predictions--------\")\n",
        "print(train_predictions.head())\n",
        "\n",
        "\n",
        "print(\"-------Testing Predictions--------\")\n",
        "print(test_predictions.head())"
      ],
      "metadata": {
        "colab": {
          "base_uri": "https://localhost:8080/"
        },
        "id": "Xrgu6cgOAo_j",
        "outputId": "eca6fa2c-6e3d-401f-e2ab-ab9c7c13a51a"
      },
      "execution_count": null,
      "outputs": [
        {
          "output_type": "stream",
          "name": "stdout",
          "text": [
            "-------Training Predictions--------\n",
            "   true_SOC%  predicted_SOC%\n",
            "0       4.88        4.889613\n",
            "1       4.76        4.776925\n",
            "2       5.10        4.496416\n",
            "3       5.70        4.240198\n",
            "4       5.11        3.807200\n",
            "-------Testing Predictions--------\n",
            "     true_SOC%  predicted_SOC%\n",
            "700       2.47        2.875131\n",
            "701       2.77        2.929904\n",
            "702       3.30        3.116718\n",
            "703       2.91        3.277680\n",
            "704       3.45        3.315396\n"
          ]
        }
      ]
    },
    {
      "cell_type": "code",
      "source": [
        "pd.DataFrame(x.iloc[2:4])"
      ],
      "metadata": {
        "colab": {
          "base_uri": "https://localhost:8080/",
          "height": 223
        },
        "id": "gz-QzuUfKYyb",
        "outputId": "84c30c39-bd4b-4655-e16d-17e099f15502"
      },
      "execution_count": null,
      "outputs": [
        {
          "output_type": "execute_result",
          "data": {
            "text/plain": [
              "         Catch      Conv        Elev   DevME A   DevME B   DevME C   DevME D  \\\n",
              "2  2824.329590 -0.521328  397.390015 -0.171732 -0.254896 -0.437166 -1.231417   \n",
              "3  5295.354492  3.123698  397.513275  0.009115  0.044004 -0.394856 -1.225852   \n",
              "\n",
              "   DiffME A  DiffME B  DiffME C  ...       TPI       TRI        TWI    VDepth  \\\n",
              "2 -0.031157 -0.092313 -0.798167  ... -0.111542  0.037374  12.385666  9.450062   \n",
              "3  0.001653  0.017007 -0.716329  ...  0.000611  0.031468  13.188428  8.735661   \n",
              "\n",
              "         VIS  NDVI_max  NDVI_median   NDVI_sd     X (DD)     Y (DD)  \n",
              "2  98.371185   0.92721     0.646960  0.234737 -80.268867  43.707490  \n",
              "3  98.379845   0.91575     0.711604  0.183207 -80.268703  43.707638  \n",
              "\n",
              "[2 rows x 59 columns]"
            ],
            "text/html": [
              "\n",
              "  <div id=\"df-6d8f23f0-91fa-44d4-9630-8034537b6d69\">\n",
              "    <div class=\"colab-df-container\">\n",
              "      <div>\n",
              "<style scoped>\n",
              "    .dataframe tbody tr th:only-of-type {\n",
              "        vertical-align: middle;\n",
              "    }\n",
              "\n",
              "    .dataframe tbody tr th {\n",
              "        vertical-align: top;\n",
              "    }\n",
              "\n",
              "    .dataframe thead th {\n",
              "        text-align: right;\n",
              "    }\n",
              "</style>\n",
              "<table border=\"1\" class=\"dataframe\">\n",
              "  <thead>\n",
              "    <tr style=\"text-align: right;\">\n",
              "      <th></th>\n",
              "      <th>Catch</th>\n",
              "      <th>Conv</th>\n",
              "      <th>Elev</th>\n",
              "      <th>DevME A</th>\n",
              "      <th>DevME B</th>\n",
              "      <th>DevME C</th>\n",
              "      <th>DevME D</th>\n",
              "      <th>DiffME A</th>\n",
              "      <th>DiffME B</th>\n",
              "      <th>DiffME C</th>\n",
              "      <th>...</th>\n",
              "      <th>TPI</th>\n",
              "      <th>TRI</th>\n",
              "      <th>TWI</th>\n",
              "      <th>VDepth</th>\n",
              "      <th>VIS</th>\n",
              "      <th>NDVI_max</th>\n",
              "      <th>NDVI_median</th>\n",
              "      <th>NDVI_sd</th>\n",
              "      <th>X (DD)</th>\n",
              "      <th>Y (DD)</th>\n",
              "    </tr>\n",
              "  </thead>\n",
              "  <tbody>\n",
              "    <tr>\n",
              "      <th>2</th>\n",
              "      <td>2824.329590</td>\n",
              "      <td>-0.521328</td>\n",
              "      <td>397.390015</td>\n",
              "      <td>-0.171732</td>\n",
              "      <td>-0.254896</td>\n",
              "      <td>-0.437166</td>\n",
              "      <td>-1.231417</td>\n",
              "      <td>-0.031157</td>\n",
              "      <td>-0.092313</td>\n",
              "      <td>-0.798167</td>\n",
              "      <td>...</td>\n",
              "      <td>-0.111542</td>\n",
              "      <td>0.037374</td>\n",
              "      <td>12.385666</td>\n",
              "      <td>9.450062</td>\n",
              "      <td>98.371185</td>\n",
              "      <td>0.92721</td>\n",
              "      <td>0.646960</td>\n",
              "      <td>0.234737</td>\n",
              "      <td>-80.268867</td>\n",
              "      <td>43.707490</td>\n",
              "    </tr>\n",
              "    <tr>\n",
              "      <th>3</th>\n",
              "      <td>5295.354492</td>\n",
              "      <td>3.123698</td>\n",
              "      <td>397.513275</td>\n",
              "      <td>0.009115</td>\n",
              "      <td>0.044004</td>\n",
              "      <td>-0.394856</td>\n",
              "      <td>-1.225852</td>\n",
              "      <td>0.001653</td>\n",
              "      <td>0.017007</td>\n",
              "      <td>-0.716329</td>\n",
              "      <td>...</td>\n",
              "      <td>0.000611</td>\n",
              "      <td>0.031468</td>\n",
              "      <td>13.188428</td>\n",
              "      <td>8.735661</td>\n",
              "      <td>98.379845</td>\n",
              "      <td>0.91575</td>\n",
              "      <td>0.711604</td>\n",
              "      <td>0.183207</td>\n",
              "      <td>-80.268703</td>\n",
              "      <td>43.707638</td>\n",
              "    </tr>\n",
              "  </tbody>\n",
              "</table>\n",
              "<p>2 rows × 59 columns</p>\n",
              "</div>\n",
              "      <button class=\"colab-df-convert\" onclick=\"convertToInteractive('df-6d8f23f0-91fa-44d4-9630-8034537b6d69')\"\n",
              "              title=\"Convert this dataframe to an interactive table.\"\n",
              "              style=\"display:none;\">\n",
              "        \n",
              "  <svg xmlns=\"http://www.w3.org/2000/svg\" height=\"24px\"viewBox=\"0 0 24 24\"\n",
              "       width=\"24px\">\n",
              "    <path d=\"M0 0h24v24H0V0z\" fill=\"none\"/>\n",
              "    <path d=\"M18.56 5.44l.94 2.06.94-2.06 2.06-.94-2.06-.94-.94-2.06-.94 2.06-2.06.94zm-11 1L8.5 8.5l.94-2.06 2.06-.94-2.06-.94L8.5 2.5l-.94 2.06-2.06.94zm10 10l.94 2.06.94-2.06 2.06-.94-2.06-.94-.94-2.06-.94 2.06-2.06.94z\"/><path d=\"M17.41 7.96l-1.37-1.37c-.4-.4-.92-.59-1.43-.59-.52 0-1.04.2-1.43.59L10.3 9.45l-7.72 7.72c-.78.78-.78 2.05 0 2.83L4 21.41c.39.39.9.59 1.41.59.51 0 1.02-.2 1.41-.59l7.78-7.78 2.81-2.81c.8-.78.8-2.07 0-2.86zM5.41 20L4 18.59l7.72-7.72 1.47 1.35L5.41 20z\"/>\n",
              "  </svg>\n",
              "      </button>\n",
              "      \n",
              "  <style>\n",
              "    .colab-df-container {\n",
              "      display:flex;\n",
              "      flex-wrap:wrap;\n",
              "      gap: 12px;\n",
              "    }\n",
              "\n",
              "    .colab-df-convert {\n",
              "      background-color: #E8F0FE;\n",
              "      border: none;\n",
              "      border-radius: 50%;\n",
              "      cursor: pointer;\n",
              "      display: none;\n",
              "      fill: #1967D2;\n",
              "      height: 32px;\n",
              "      padding: 0 0 0 0;\n",
              "      width: 32px;\n",
              "    }\n",
              "\n",
              "    .colab-df-convert:hover {\n",
              "      background-color: #E2EBFA;\n",
              "      box-shadow: 0px 1px 2px rgba(60, 64, 67, 0.3), 0px 1px 3px 1px rgba(60, 64, 67, 0.15);\n",
              "      fill: #174EA6;\n",
              "    }\n",
              "\n",
              "    [theme=dark] .colab-df-convert {\n",
              "      background-color: #3B4455;\n",
              "      fill: #D2E3FC;\n",
              "    }\n",
              "\n",
              "    [theme=dark] .colab-df-convert:hover {\n",
              "      background-color: #434B5C;\n",
              "      box-shadow: 0px 1px 3px 1px rgba(0, 0, 0, 0.15);\n",
              "      filter: drop-shadow(0px 1px 2px rgba(0, 0, 0, 0.3));\n",
              "      fill: #FFFFFF;\n",
              "    }\n",
              "  </style>\n",
              "\n",
              "      <script>\n",
              "        const buttonEl =\n",
              "          document.querySelector('#df-6d8f23f0-91fa-44d4-9630-8034537b6d69 button.colab-df-convert');\n",
              "        buttonEl.style.display =\n",
              "          google.colab.kernel.accessAllowed ? 'block' : 'none';\n",
              "\n",
              "        async function convertToInteractive(key) {\n",
              "          const element = document.querySelector('#df-6d8f23f0-91fa-44d4-9630-8034537b6d69');\n",
              "          const dataTable =\n",
              "            await google.colab.kernel.invokeFunction('convertToInteractive',\n",
              "                                                     [key], {});\n",
              "          if (!dataTable) return;\n",
              "\n",
              "          const docLinkHtml = 'Like what you see? Visit the ' +\n",
              "            '<a target=\"_blank\" href=https://colab.research.google.com/notebooks/data_table.ipynb>data table notebook</a>'\n",
              "            + ' to learn more about interactive tables.';\n",
              "          element.innerHTML = '';\n",
              "          dataTable['output_type'] = 'display_data';\n",
              "          await google.colab.output.renderOutput(dataTable, element);\n",
              "          const docLink = document.createElement('div');\n",
              "          docLink.innerHTML = docLinkHtml;\n",
              "          element.appendChild(docLink);\n",
              "        }\n",
              "      </script>\n",
              "    </div>\n",
              "  </div>\n",
              "  "
            ]
          },
          "metadata": {},
          "execution_count": 48
        }
      ]
    },
    {
      "cell_type": "code",
      "source": [
        "# Prepare production data\n",
        "field = x[2:4]\n",
        "field['NDVI_sd'] = 0.02\n",
        "field['NDVI_max'] = 0.8\n",
        "field['NDVI_median'] = 0.6\n",
        "\n",
        "print(field)"
      ],
      "metadata": {
        "colab": {
          "base_uri": "https://localhost:8080/"
        },
        "id": "gdk_0alLBAt_",
        "outputId": "9d7b75ce-8cca-4527-c583-2ecd52d76701"
      },
      "execution_count": null,
      "outputs": [
        {
          "output_type": "stream",
          "name": "stdout",
          "text": [
            "         Catch      Conv        Elev   DevME A   DevME B   DevME C   DevME D  \\\n",
            "2  2824.329590 -0.521328  397.390015 -0.171732 -0.254896 -0.437166 -1.231417   \n",
            "3  5295.354492  3.123698  397.513275  0.009115  0.044004 -0.394856 -1.225852   \n",
            "\n",
            "   DiffME A  DiffME B  DiffME C  ...       TPI       TRI        TWI    VDepth  \\\n",
            "2 -0.031157 -0.092313 -0.798167  ... -0.111542  0.037374  12.385666  9.450062   \n",
            "3  0.001653  0.017007 -0.716329  ...  0.000611  0.031468  13.188428  8.735661   \n",
            "\n",
            "         VIS  NDVI_max  NDVI_median  NDVI_sd     X (DD)     Y (DD)  \n",
            "2  98.371185       0.8          0.6     0.02 -80.268867  43.707490  \n",
            "3  98.379845       0.8          0.6     0.02 -80.268703  43.707638  \n",
            "\n",
            "[2 rows x 59 columns]\n"
          ]
        },
        {
          "output_type": "stream",
          "name": "stderr",
          "text": [
            "<ipython-input-49-f9cc4077f3c4>:3: SettingWithCopyWarning: \n",
            "A value is trying to be set on a copy of a slice from a DataFrame.\n",
            "Try using .loc[row_indexer,col_indexer] = value instead\n",
            "\n",
            "See the caveats in the documentation: https://pandas.pydata.org/pandas-docs/stable/user_guide/indexing.html#returning-a-view-versus-a-copy\n",
            "  field['NDVI_sd'] = 0.02\n",
            "<ipython-input-49-f9cc4077f3c4>:4: SettingWithCopyWarning: \n",
            "A value is trying to be set on a copy of a slice from a DataFrame.\n",
            "Try using .loc[row_indexer,col_indexer] = value instead\n",
            "\n",
            "See the caveats in the documentation: https://pandas.pydata.org/pandas-docs/stable/user_guide/indexing.html#returning-a-view-versus-a-copy\n",
            "  field['NDVI_max'] = 0.8\n",
            "<ipython-input-49-f9cc4077f3c4>:5: SettingWithCopyWarning: \n",
            "A value is trying to be set on a copy of a slice from a DataFrame.\n",
            "Try using .loc[row_indexer,col_indexer] = value instead\n",
            "\n",
            "See the caveats in the documentation: https://pandas.pydata.org/pandas-docs/stable/user_guide/indexing.html#returning-a-view-versus-a-copy\n",
            "  field['NDVI_median'] = 0.6\n"
          ]
        }
      ]
    },
    {
      "cell_type": "code",
      "source": [
        "# prediction\n",
        "\n",
        "clf.predict(field)"
      ],
      "metadata": {
        "colab": {
          "base_uri": "https://localhost:8080/"
        },
        "id": "WaRJF_WFCja-",
        "outputId": "baf153f8-7a69-41b5-db99-cbd8790efc0b"
      },
      "execution_count": null,
      "outputs": [
        {
          "output_type": "execute_result",
          "data": {
            "text/plain": [
              "array([5.88006482, 5.52502065])"
            ]
          },
          "metadata": {},
          "execution_count": 50
        }
      ]
    },
    {
      "cell_type": "markdown",
      "source": [
        "# New section"
      ],
      "metadata": {
        "id": "CX_DX_GK-Frv"
      }
    }
  ]
}